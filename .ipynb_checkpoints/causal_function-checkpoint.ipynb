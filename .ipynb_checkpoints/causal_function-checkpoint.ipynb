{
 "cells": [
  {
   "cell_type": "code",
   "execution_count": 2,
   "id": "28511cf6",
   "metadata": {
    "ExecuteTime": {
     "end_time": "2024-12-08T08:56:59.900090Z",
     "start_time": "2024-12-08T08:56:55.787313Z"
    }
   },
   "outputs": [],
   "source": [
    "import os\n",
    "import pandas as pd\n",
    "import numpy as np\n",
    "import datetime\n",
    "\n",
    "import requests\n",
    "from bs4 import BeautifulSoup\n",
    "import time\n",
    "\n",
    "#import sweetviz as sv\n",
    "import matplotlib.pyplot as plt\n",
    "import seaborn as sns\n",
    "plt.rcParams['font.family'] = 'Malgun Gothic'\n",
    "plt.rcParams['axes.unicode_minus'] = False\n",
    "\n",
    "from scipy import stats\n",
    "import statsmodels.formula.api as smf\n",
    "import statsmodels.api as sm\n",
    "from sklearn.preprocessing import StandardScaler\n",
    "from sklearn.linear_model import LogisticRegression\n",
    "from sklearn.neighbors import NearestNeighbors\n",
    "import plotly.express as px\n",
    "import plotly.graph_objects as go\n",
    "from plotly.subplots import make_subplots\n",
    "from statsmodels.stats.outliers_influence import variance_inflation_factor"
   ]
  },
  {
   "cell_type": "code",
   "execution_count": 17,
   "id": "8d2b991f",
   "metadata": {
    "ExecuteTime": {
     "end_time": "2024-12-08T09:09:18.561743Z",
     "start_time": "2024-12-08T09:09:18.542961Z"
    }
   },
   "outputs": [],
   "source": [
    "def ab_test (raw, x, y):\n",
    "    df = raw[[x, y]].copy()\n",
    "    tab = df.groupby(x).agg(['mean', 'sem']).round(2) # 평균, 표준오차\n",
    "    tab.columns = ['mean', 'sem']\n",
    "    tab['CI_lower'] = tab.apply(lambda x: x['mean'] - 2 * x['sem'], axis=1) # 95% 신뢰구간\n",
    "    tab['CI_upper'] = tab.apply(lambda x: x['mean'] + 2 * x['sem'], axis=1)\n",
    "\n",
    "    t_stat, p_value = stats.ttest_ind(df.loc[df[x] == tab.index[0], y], \n",
    "                                      df.loc[df[x] == tab.index[1], y], equal_var=True)\n",
    "    \n",
    "    res = {\n",
    "            'pre_treat': tab.iloc[0]['mean'],\n",
    "            'change_coef': round(tab.iloc[1]['mean'] - tab.iloc[0]['mean'], 2),\n",
    "            'post_treat': tab.iloc[1]['mean'],\n",
    "            'change_perc': round((tab.iloc[1]['mean'] - tab.iloc[0]['mean']) / tab.iloc[0]['mean'], 2),\n",
    "            't_stat': t_stat.round(4),\n",
    "            'p_value': p_value.round(4)\n",
    "    }\n",
    "\n",
    "    return res"
   ]
  },
  {
   "cell_type": "code",
   "execution_count": 19,
   "id": "4ef80745",
   "metadata": {
    "ExecuteTime": {
     "end_time": "2024-12-08T09:09:21.498127Z",
     "start_time": "2024-12-08T09:09:21.467295Z"
    }
   },
   "outputs": [
    {
     "data": {
      "text/plain": [
       "{'pre_treat': 241.73,\n",
       " 'change_coef': 1.57,\n",
       " 'post_treat': 243.3,\n",
       " 'change_perc': 0.01,\n",
       " 't_stat': -0.4695,\n",
       " 'p_value': 0.6387}"
      ]
     },
     "execution_count": 19,
     "metadata": {},
     "output_type": "execute_result"
    }
   ],
   "source": [
    "#ab_test(raw, 'Group', 'Time Spent')"
   ]
  },
  {
   "cell_type": "code",
   "execution_count": null,
   "id": "1c60349f",
   "metadata": {},
   "outputs": [],
   "source": []
  },
  {
   "cell_type": "code",
   "execution_count": null,
   "id": "4c775472",
   "metadata": {},
   "outputs": [],
   "source": []
  },
  {
   "cell_type": "code",
   "execution_count": null,
   "id": "a7ab92ca",
   "metadata": {},
   "outputs": [],
   "source": []
  },
  {
   "cell_type": "code",
   "execution_count": null,
   "id": "8d8f1e45",
   "metadata": {},
   "outputs": [],
   "source": []
  }
 ],
 "metadata": {
  "hide_input": false,
  "kernelspec": {
   "display_name": "Python 3 (ipykernel)",
   "language": "python",
   "name": "python3"
  },
  "language_info": {
   "codemirror_mode": {
    "name": "ipython",
    "version": 3
   },
   "file_extension": ".py",
   "mimetype": "text/x-python",
   "name": "python",
   "nbconvert_exporter": "python",
   "pygments_lexer": "ipython3",
   "version": "3.11.5"
  },
  "toc": {
   "base_numbering": 1,
   "nav_menu": {},
   "number_sections": true,
   "sideBar": true,
   "skip_h1_title": false,
   "title_cell": "Table of Contents",
   "title_sidebar": "Contents",
   "toc_cell": false,
   "toc_position": {},
   "toc_section_display": true,
   "toc_window_display": false
  },
  "varInspector": {
   "cols": {
    "lenName": 16,
    "lenType": 16,
    "lenVar": 40
   },
   "kernels_config": {
    "python": {
     "delete_cmd_postfix": "",
     "delete_cmd_prefix": "del ",
     "library": "var_list.py",
     "varRefreshCmd": "print(var_dic_list())"
    },
    "r": {
     "delete_cmd_postfix": ") ",
     "delete_cmd_prefix": "rm(",
     "library": "var_list.r",
     "varRefreshCmd": "cat(var_dic_list()) "
    }
   },
   "types_to_exclude": [
    "module",
    "function",
    "builtin_function_or_method",
    "instance",
    "_Feature"
   ],
   "window_display": false
  }
 },
 "nbformat": 4,
 "nbformat_minor": 5
}
