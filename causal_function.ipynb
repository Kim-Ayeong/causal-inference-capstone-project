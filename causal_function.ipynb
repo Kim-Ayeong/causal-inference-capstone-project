{
 "cells": [
  {
   "cell_type": "code",
   "execution_count": 1,
   "id": "9e13c624",
   "metadata": {
    "ExecuteTime": {
     "end_time": "2024-12-22T11:15:26.362921Z",
     "start_time": "2024-12-22T11:15:22.319376Z"
    }
   },
   "outputs": [],
   "source": [
    "import os\n",
    "import pandas as pd\n",
    "import numpy as np\n",
    "import datetime\n",
    "\n",
    "import requests\n",
    "from bs4 import BeautifulSoup\n",
    "import time\n",
    "\n",
    "#import sweetviz as sv\n",
    "import matplotlib.pyplot as plt\n",
    "import seaborn as sns\n",
    "plt.rcParams['font.family'] = 'Malgun Gothic'\n",
    "plt.rcParams['axes.unicode_minus'] = False\n",
    "\n",
    "from scipy import stats\n",
    "import statsmodels.formula.api as smf\n",
    "import statsmodels.api as sm\n",
    "from sklearn.preprocessing import StandardScaler\n",
    "from sklearn.linear_model import LogisticRegression\n",
    "from sklearn.neighbors import NearestNeighbors\n",
    "import plotly.express as px\n",
    "import plotly.graph_objects as go\n",
    "from plotly.subplots import make_subplots\n",
    "from statsmodels.stats.outliers_influence import variance_inflation_factor"
   ]
  },
  {
   "cell_type": "code",
   "execution_count": 2,
   "id": "8e2e6e3f",
   "metadata": {
    "ExecuteTime": {
     "end_time": "2024-12-22T10:34:18.881576Z",
     "start_time": "2024-12-22T10:34:18.865463Z"
    }
   },
   "outputs": [],
   "source": [
    "def ab_test (raw, x, y):\n",
    "    if raw[y].dtype in [object, bool]:\n",
    "        if raw[y].dtype == object:\n",
    "            raw[y] = raw[y].map(lambda x: 1 if (str(x).lower() == 'true') or (str(x).lower() == 'yes') else 0)\n",
    "        else:\n",
    "            raw[y] = raw[y].astype(int)\n",
    "\n",
    "    df = raw[[x, y]].copy()\n",
    "    tab = df.groupby(x).agg(['mean', 'sem']).round(2) # 평균, 표준오차\n",
    "    tab.columns = ['mean', 'sem']\n",
    "    tab['CI_lower'] = tab.apply(lambda x: x['mean'] - 2 * x['sem'], axis=1) # 95% 신뢰구간\n",
    "    tab['CI_upper'] = tab.apply(lambda x: x['mean'] + 2 * x['sem'], axis=1)\n",
    "\n",
    "    t_stat, p_value = stats.ttest_ind(df.loc[df[x] == tab.index[0], y], \n",
    "                                      df.loc[df[x] == tab.index[1], y], equal_var=True)\n",
    "    \n",
    "    res = {\n",
    "            'pre_treat': tab.iloc[0]['mean'],\n",
    "            'post_treat': tab.iloc[1]['mean'],\n",
    "            'change_coef': round(tab.iloc[1]['mean'] - tab.iloc[0]['mean'], 2),\n",
    "            'change_perc': round((tab.iloc[1]['mean'] - tab.iloc[0]['mean']) / tab.iloc[0]['mean'] * 100, 2),\n",
    "            't_stat': t_stat.round(4),\n",
    "            'p_value': p_value.round(4)\n",
    "    }\n",
    "\n",
    "    return res"
   ]
  },
  {
   "cell_type": "code",
   "execution_count": 3,
   "id": "ab060d13",
   "metadata": {
    "ExecuteTime": {
     "end_time": "2024-12-22T10:34:22.062414Z",
     "start_time": "2024-12-22T10:34:22.055670Z"
    }
   },
   "outputs": [],
   "source": [
    "#ab_test(raw, 'Group', 'Time Spent')"
   ]
  },
  {
   "cell_type": "code",
   "execution_count": 11,
   "id": "2267b3d5",
   "metadata": {
    "ExecuteTime": {
     "end_time": "2024-12-22T10:36:03.799214Z",
     "start_time": "2024-12-22T10:36:03.779905Z"
    }
   },
   "outputs": [],
   "source": [
    "def did (raw, x, y, fix, treat_group, control_group, dt, start_dt, treat_dt, end_dt):\n",
    "    try:\n",
    "        raw[dt] = raw[dt].map(lambda x: x.date())\n",
    "    except:\n",
    "        pass\n",
    "    df = raw.loc[(raw[dt] >= start_dt) & \n",
    "             (raw[dt] <= end_dt), [x, y, fix, dt]].copy()\n",
    "    df['treated'] = df[x].map(lambda x: 1 if x == treat_group else 0)\n",
    "    df['post'] = df[dt].map(lambda x: 1 if x >= treat_dt else 0)\n",
    "\n",
    "    tab = pd.DataFrame(df.groupby(['treated', 'post'])[y].mean())\n",
    "    model = smf.ols(f'{y} ~ treated:post + C({x}) + C({fix}) + C({dt})', data=df).fit()\n",
    "    #model.summary()\n",
    "    #model.conf_int().loc['treated:post'] # 95% 신뢰구간\n",
    "    \n",
    "    res = {\n",
    "            'pre_treat': tab.loc[1, 0][y].round(1),\n",
    "            'post_treat': tab.loc[1, 1][y].round(1),\n",
    "            'change_value':tab.loc[1, 1][y].round(1) - tab.loc[1, 0][y].round(1),\n",
    "            'change_coef': model.params['treated:post'].round(2),\n",
    "            'change_perc': round(model.params['treated:post']/tab.loc[1, 0][y]*100, 2),\n",
    "            'p_value': model.pvalues['treated:post'].round(2)\n",
    "    }\n",
    "\n",
    "    return res"
   ]
  },
  {
   "cell_type": "code",
   "execution_count": 39,
   "id": "12f34c88",
   "metadata": {
    "ExecuteTime": {
     "end_time": "2024-12-22T10:42:03.396861Z",
     "start_time": "2024-12-22T10:42:03.378159Z"
    }
   },
   "outputs": [],
   "source": [
    "def rd (raw, x, y, fix, treat_group, dt, start_dt, treat_dt, end_dt):\n",
    "    try:\n",
    "        raw[dt] = raw[dt].map(lambda x: x.date())\n",
    "    except:\n",
    "        pass\n",
    "    df = raw.loc[(raw[dt] >= start_dt) & \n",
    "                 (raw[dt] <= end_dt) & \n",
    "                 (raw[x] == treat_group), [y, fix, dt]].copy()\n",
    "    \n",
    "    df['treated'] = (df[dt] >= treat_dt).astype(int)\n",
    "    df['diff'] = (df[dt] - treat_dt).map(lambda x: x.days).astype(int)\n",
    "\n",
    "    tab = pd.DataFrame(df.groupby('treated')[y].mean())\n",
    "    \n",
    "    model = smf.ols(f'{y} ~ treated:diff + C({fix})', data=df).fit()\n",
    "    #model.summary()\n",
    "    #model.conf_int().loc['treated:post'] # 95% 신뢰구간\n",
    "    \n",
    "    res = {\n",
    "            'pre_treat': tab.loc[0][y].round(1),\n",
    "            'post_treat': tab.loc[1][y].round(1),\n",
    "            'change_value':tab.loc[1][y].round(1) - tab.loc[0][y].round(1),\n",
    "            'change_coef': model.params['treated:diff'].round(2),\n",
    "            'change_perc': round(model.params['treated:diff']/tab.loc[0][y]*100, 2),\n",
    "            'p_value': model.pvalues['treated:diff'].round(2)\n",
    "    }\n",
    "\n",
    "    return res"
   ]
  },
  {
   "cell_type": "code",
   "execution_count": 7,
   "id": "3f059b24",
   "metadata": {
    "ExecuteTime": {
     "end_time": "2024-12-22T10:35:07.463175Z",
     "start_time": "2024-12-22T10:34:32.049558Z"
    }
   },
   "outputs": [
    {
     "data": {
      "text/html": [
       "<div>\n",
       "<style scoped>\n",
       "    .dataframe tbody tr th:only-of-type {\n",
       "        vertical-align: middle;\n",
       "    }\n",
       "\n",
       "    .dataframe tbody tr th {\n",
       "        vertical-align: top;\n",
       "    }\n",
       "\n",
       "    .dataframe thead th {\n",
       "        text-align: right;\n",
       "    }\n",
       "</style>\n",
       "<table border=\"1\" class=\"dataframe\">\n",
       "  <thead>\n",
       "    <tr style=\"text-align: right;\">\n",
       "      <th></th>\n",
       "      <th>연월</th>\n",
       "      <th>일자</th>\n",
       "      <th>주차</th>\n",
       "      <th>시도</th>\n",
       "      <th>시군구</th>\n",
       "      <th>목적통행량</th>\n",
       "      <th>평균통행거리(km)</th>\n",
       "      <th>총 인구 수</th>\n",
       "      <th>인구당 목적통행량</th>\n",
       "      <th>택시 승차량</th>\n",
       "      <th>자동차 통행량</th>\n",
       "      <th>따릉이 이용량</th>\n",
       "      <th>방문자 수</th>\n",
       "      <th>treated</th>\n",
       "      <th>post</th>\n",
       "      <th>w</th>\n",
       "    </tr>\n",
       "  </thead>\n",
       "  <tbody>\n",
       "    <tr>\n",
       "      <th>0</th>\n",
       "      <td>202201</td>\n",
       "      <td>2022-01-01</td>\n",
       "      <td>202252</td>\n",
       "      <td>광주광역시</td>\n",
       "      <td>광산구</td>\n",
       "      <td>26473</td>\n",
       "      <td>7.1</td>\n",
       "      <td>404319</td>\n",
       "      <td>65.5</td>\n",
       "      <td>NaN</td>\n",
       "      <td>NaN</td>\n",
       "      <td>NaN</td>\n",
       "      <td>777793</td>\n",
       "      <td>0</td>\n",
       "      <td>0</td>\n",
       "      <td>0</td>\n",
       "    </tr>\n",
       "    <tr>\n",
       "      <th>1</th>\n",
       "      <td>202201</td>\n",
       "      <td>2022-01-02</td>\n",
       "      <td>202252</td>\n",
       "      <td>광주광역시</td>\n",
       "      <td>광산구</td>\n",
       "      <td>26698</td>\n",
       "      <td>7.1</td>\n",
       "      <td>404319</td>\n",
       "      <td>66.0</td>\n",
       "      <td>NaN</td>\n",
       "      <td>NaN</td>\n",
       "      <td>NaN</td>\n",
       "      <td>779073</td>\n",
       "      <td>0</td>\n",
       "      <td>0</td>\n",
       "      <td>0</td>\n",
       "    </tr>\n",
       "    <tr>\n",
       "      <th>2</th>\n",
       "      <td>202201</td>\n",
       "      <td>2022-01-03</td>\n",
       "      <td>202201</td>\n",
       "      <td>광주광역시</td>\n",
       "      <td>광산구</td>\n",
       "      <td>56775</td>\n",
       "      <td>7.1</td>\n",
       "      <td>404319</td>\n",
       "      <td>140.4</td>\n",
       "      <td>NaN</td>\n",
       "      <td>NaN</td>\n",
       "      <td>NaN</td>\n",
       "      <td>826813</td>\n",
       "      <td>0</td>\n",
       "      <td>0</td>\n",
       "      <td>0</td>\n",
       "    </tr>\n",
       "  </tbody>\n",
       "</table>\n",
       "</div>"
      ],
      "text/plain": [
       "       연월         일자      주차     시도  시군구  목적통행량  평균통행거리(km)  총 인구 수  \\\n",
       "0  202201 2022-01-01  202252  광주광역시  광산구  26473         7.1  404319   \n",
       "1  202201 2022-01-02  202252  광주광역시  광산구  26698         7.1  404319   \n",
       "2  202201 2022-01-03  202201  광주광역시  광산구  56775         7.1  404319   \n",
       "\n",
       "   인구당 목적통행량  택시 승차량  자동차 통행량  따릉이 이용량   방문자 수  treated  post  w  \n",
       "0       65.5     NaN      NaN      NaN  777793        0     0  0  \n",
       "1       66.0     NaN      NaN      NaN  779073        0     0  0  \n",
       "2      140.4     NaN      NaN      NaN  826813        0     0  0  "
      ]
     },
     "execution_count": 7,
     "metadata": {},
     "output_type": "execute_result"
    }
   ],
   "source": [
    "# raw = pd.read_excel('./data/rawdata.xlsx')\n",
    "# raw.head(3)"
   ]
  },
  {
   "cell_type": "code",
   "execution_count": 13,
   "id": "79e21901",
   "metadata": {
    "ExecuteTime": {
     "end_time": "2024-12-22T10:36:13.202828Z",
     "start_time": "2024-12-22T10:36:13.192924Z"
    }
   },
   "outputs": [],
   "source": [
    "# x = '시도'\n",
    "# y = '목적통행량'\n",
    "# fix = '시군구'\n",
    "# treat_group = '서울특별시'\n",
    "# control_group = '부산광역시'\n",
    "\n",
    "# dt = '일자'\n",
    "# start_dt = datetime.date(2022,11,1)\n",
    "# treat_dt = datetime.date(2024,1,27)\n",
    "# end_dt = datetime.date(2024,10,31)"
   ]
  },
  {
   "cell_type": "code",
   "execution_count": 14,
   "id": "bcc8028e",
   "metadata": {
    "ExecuteTime": {
     "end_time": "2024-12-22T10:36:22.515916Z",
     "start_time": "2024-12-22T10:36:14.037114Z"
    },
    "scrolled": true
   },
   "outputs": [
    {
     "data": {
      "text/plain": [
       "{'pre_treat': 305141.6,\n",
       " 'post_treat': 313286.3,\n",
       " 'change_value': 8144.700000000012,\n",
       " 'change_coef': 6451.19,\n",
       " 'change_perc': 2.11,\n",
       " 'p_value': 0.0}"
      ]
     },
     "execution_count": 14,
     "metadata": {},
     "output_type": "execute_result"
    }
   ],
   "source": [
    "# did(raw, x, y, fix, treat_group, control_group, dt, start_dt, treat_dt, end_dt)"
   ]
  },
  {
   "cell_type": "code",
   "execution_count": 40,
   "id": "acf845be",
   "metadata": {
    "ExecuteTime": {
     "end_time": "2024-12-22T10:42:06.818399Z",
     "start_time": "2024-12-22T10:42:06.479723Z"
    },
    "scrolled": true
   },
   "outputs": [
    {
     "data": {
      "text/plain": [
       "{'pre_treat': 305141.6,\n",
       " 'post_treat': 313286.3,\n",
       " 'change_value': 8144.700000000012,\n",
       " 'change_coef': 48.89,\n",
       " 'change_perc': 0.02,\n",
       " 'p_value': 0.0}"
      ]
     },
     "execution_count": 40,
     "metadata": {},
     "output_type": "execute_result"
    }
   ],
   "source": [
    "# rd(raw, x, y, fix, treat_group, dt, start_dt, treat_dt, end_dt)"
   ]
  },
  {
   "cell_type": "code",
   "execution_count": null,
   "id": "fda7a7a7",
   "metadata": {},
   "outputs": [],
   "source": []
  },
  {
   "cell_type": "code",
   "execution_count": null,
   "id": "ccc20de3",
   "metadata": {},
   "outputs": [],
   "source": []
  }
 ],
 "metadata": {
  "hide_input": false,
  "kernelspec": {
   "display_name": "Python 3 (ipykernel)",
   "language": "python",
   "name": "python3"
  },
  "language_info": {
   "codemirror_mode": {
    "name": "ipython",
    "version": 3
   },
   "file_extension": ".py",
   "mimetype": "text/x-python",
   "name": "python",
   "nbconvert_exporter": "python",
   "pygments_lexer": "ipython3",
   "version": "3.11.5"
  },
  "toc": {
   "base_numbering": 1,
   "nav_menu": {},
   "number_sections": true,
   "sideBar": true,
   "skip_h1_title": false,
   "title_cell": "Table of Contents",
   "title_sidebar": "Contents",
   "toc_cell": false,
   "toc_position": {
    "height": "calc(100% - 180px)",
    "left": "10px",
    "top": "150px",
    "width": "341.333px"
   },
   "toc_section_display": true,
   "toc_window_display": false
  },
  "varInspector": {
   "cols": {
    "lenName": 16,
    "lenType": 16,
    "lenVar": 40
   },
   "kernels_config": {
    "python": {
     "delete_cmd_postfix": "",
     "delete_cmd_prefix": "del ",
     "library": "var_list.py",
     "varRefreshCmd": "print(var_dic_list())"
    },
    "r": {
     "delete_cmd_postfix": ") ",
     "delete_cmd_prefix": "rm(",
     "library": "var_list.r",
     "varRefreshCmd": "cat(var_dic_list()) "
    }
   },
   "types_to_exclude": [
    "module",
    "function",
    "builtin_function_or_method",
    "instance",
    "_Feature"
   ],
   "window_display": false
  }
 },
 "nbformat": 4,
 "nbformat_minor": 5
}
